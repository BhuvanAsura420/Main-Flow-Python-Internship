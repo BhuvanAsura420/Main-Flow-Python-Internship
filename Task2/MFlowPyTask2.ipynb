{
  "nbformat": 4,
  "nbformat_minor": 0,
  "metadata": {
    "colab": {
      "provenance": []
    },
    "kernelspec": {
      "name": "python3",
      "display_name": "Python 3"
    },
    "language_info": {
      "name": "python"
    }
  },
  "cells": [
    {
      "cell_type": "code",
      "execution_count": 1,
      "metadata": {
        "colab": {
          "base_uri": "https://localhost:8080/"
        },
        "id": "Q4V19al0cK6o",
        "outputId": "e768ad36-f987-4c09-9a1d-ff7a154f945c"
      },
      "outputs": [
        {
          "output_type": "stream",
          "name": "stdout",
          "text": [
            "Enter a number: 12\n",
            "Prime: False\n"
          ]
        }
      ],
      "source": [
        "### *1. Prime Number Check*\n",
        "\n",
        "def is_prime(n):\n",
        "    if n < 2:\n",
        "        return False\n",
        "    for i in range(2, int(n ** 0.5) + 1):\n",
        "        if n % i == 0:\n",
        "            return False\n",
        "    return True\n",
        "\n",
        "n = int(input(\"Enter a number: \"))\n",
        "print(\"Prime:\", is_prime(n))"
      ]
    },
    {
      "cell_type": "code",
      "source": [
        "### *2. Sum of Digits*\n",
        "\n",
        "def sum_of_digits(n):\n",
        "    return sum(int(digit) for digit in str(abs(n)))  # Handle negative numbers too\n",
        "\n",
        "n = int(input(\"Enter a number: \"))\n",
        "print(\"Sum of digits:\", sum_of_digits(n))"
      ],
      "metadata": {
        "colab": {
          "base_uri": "https://localhost:8080/"
        },
        "id": "xh_6UMFbc2ih",
        "outputId": "f8123b28-569f-4a32-b74e-70bd5ac6282b"
      },
      "execution_count": 2,
      "outputs": [
        {
          "output_type": "stream",
          "name": "stdout",
          "text": [
            "Enter a number: 12\n",
            "Sum of digits: 3\n"
          ]
        }
      ]
    },
    {
      "cell_type": "code",
      "source": [
        "### *3. LCM and GCD*\n",
        "\n",
        "import math\n",
        "\n",
        "def lcm_and_gcd(a, b):\n",
        "    gcd = math.gcd(a, b)\n",
        "    lcm = abs(a * b) // gcd\n",
        "    return lcm, gcd\n",
        "\n",
        "a = int(input(\"Enter first number: \"))\n",
        "b = int(input(\"Enter second number: \"))\n",
        "lcm, gcd = lcm_and_gcd(a, b)\n",
        "print(\"LCM:\", lcm)\n",
        "print(\"GCD:\", gcd)"
      ],
      "metadata": {
        "colab": {
          "base_uri": "https://localhost:8080/"
        },
        "id": "0fzHtCLGc549",
        "outputId": "8db8043e-5108-4b3f-a63a-4d201277c56d"
      },
      "execution_count": 3,
      "outputs": [
        {
          "output_type": "stream",
          "name": "stdout",
          "text": [
            "Enter first number: 12\n",
            "Enter second number: 13\n",
            "LCM: 156\n",
            "GCD: 1\n"
          ]
        }
      ]
    },
    {
      "cell_type": "code",
      "source": [
        "### *4. List Reversal*\n",
        "\n",
        "def reverse_list(lst):\n",
        "    return lst[::-1]\n",
        "\n",
        "lst = list(map(int, input(\"Enter list elements separated by space: \").split()))\n",
        "print(\"Reversed list:\", reverse_list(lst))"
      ],
      "metadata": {
        "colab": {
          "base_uri": "https://localhost:8080/"
        },
        "id": "LB06bIl5c9eY",
        "outputId": "1117e1d6-c53d-494b-f76c-6171d876d223"
      },
      "execution_count": 4,
      "outputs": [
        {
          "output_type": "stream",
          "name": "stdout",
          "text": [
            "Enter list elements separated by space: 1 2 3 42 11 14\n",
            "Reversed list: [14, 11, 42, 3, 2, 1]\n"
          ]
        }
      ]
    },
    {
      "cell_type": "code",
      "source": [
        "### *5. Sort a List*\n",
        "\n",
        "def sort_list(lst):\n",
        "    return sorted(lst)\n",
        "\n",
        "lst = list(map(int, input(\"Enter list elements separated by space: \").split()))\n",
        "print(\"Sorted list:\", sort_list(lst))"
      ],
      "metadata": {
        "colab": {
          "base_uri": "https://localhost:8080/"
        },
        "id": "vIknYyODdAdI",
        "outputId": "f63bec97-c042-4a9f-86ed-cdc4894ed0f5"
      },
      "execution_count": 5,
      "outputs": [
        {
          "output_type": "stream",
          "name": "stdout",
          "text": [
            "Enter list elements separated by space: 1 2 4 13 12 11 5 6 7 4\n",
            "Sorted list: [1, 2, 4, 4, 5, 6, 7, 11, 12, 13]\n"
          ]
        }
      ]
    },
    {
      "cell_type": "code",
      "source": [
        "### *6. Remove Duplicates*\n",
        "\n",
        "def remove_duplicates(lst):\n",
        "    return list(set(lst))\n",
        "\n",
        "lst = list(map(int, input(\"Enter list elements separated by space: \").split()))\n",
        "print(\"List without duplicates:\", remove_duplicates(lst))"
      ],
      "metadata": {
        "colab": {
          "base_uri": "https://localhost:8080/"
        },
        "id": "okcFyj4fdDKA",
        "outputId": "56ba051f-7275-4a49-815b-5a1301c5e21e"
      },
      "execution_count": 6,
      "outputs": [
        {
          "output_type": "stream",
          "name": "stdout",
          "text": [
            "Enter list elements separated by space: 1 1 2 3 44 4 44 4 5 5 55 55\n",
            "List without duplicates: [1, 2, 3, 4, 5, 44, 55]\n"
          ]
        }
      ]
    },
    {
      "cell_type": "code",
      "source": [
        "### *7. String Length (Without len())*\n",
        "\n",
        "def string_length(s):\n",
        "    count = 0\n",
        "    for _ in s:\n",
        "        count += 1\n",
        "    return count\n",
        "\n",
        "s = input(\"Enter a string: \")\n",
        "print(\"String length:\", string_length(s))"
      ],
      "metadata": {
        "colab": {
          "base_uri": "https://localhost:8080/"
        },
        "id": "NifUqcj2dFK4",
        "outputId": "6843dd7c-bfa5-4d72-d823-d34edd3f544f"
      },
      "execution_count": 7,
      "outputs": [
        {
          "output_type": "stream",
          "name": "stdout",
          "text": [
            "Enter a string: bhuvan\n",
            "String length: 6\n"
          ]
        }
      ]
    },
    {
      "cell_type": "code",
      "source": [
        "### *8. Count Vowels and Consonants*\n",
        "\n",
        "def count_vowels_consonants(s):\n",
        "    vowels = \"aeiouAEIOU\"\n",
        "    v_count = sum(1 for char in s if char in vowels)\n",
        "    c_count = sum(1 for char in s if char.isalpha() and char not in vowels)\n",
        "    return v_count, c_count\n",
        "\n",
        "s = input(\"Enter a string: \")\n",
        "vowels, consonants = count_vowels_consonants(s)\n",
        "print(\"Vowels:\", vowels)\n",
        "print(\"Consonants:\", consonants)"
      ],
      "metadata": {
        "colab": {
          "base_uri": "https://localhost:8080/"
        },
        "id": "EK3J7hYtdHtY",
        "outputId": "f55218fc-5f6e-4bef-e08b-0e3583d4b33c"
      },
      "execution_count": 8,
      "outputs": [
        {
          "output_type": "stream",
          "name": "stdout",
          "text": [
            "Enter a string: bhuvan\n",
            "Vowels: 2\n",
            "Consonants: 4\n"
          ]
        }
      ]
    },
    {
      "cell_type": "code",
      "source": [
        "### *9. Maze Generator and Solver*\n",
        "# This program generates a maze using DFS and solves it using BFS.\n",
        "\n",
        "import random\n",
        "from collections import deque\n",
        "\n",
        "# Directions: Right, Left, Down, Up\n",
        "DIRECTIONS = [(0, 1), (0, -1), (1, 0), (-1, 0)]\n",
        "\n",
        "def generate_maze(rows, cols):\n",
        "    \"\"\"Generates a solvable random maze using DFS.\"\"\"\n",
        "    # Initialize maze with walls\n",
        "    maze = [['#' for _ in range(cols)] for _ in range(rows)]\n",
        "\n",
        "    # Stack-based DFS for maze carving\n",
        "    def carve_maze(r, c):\n",
        "        maze[r][c] = ' '  # Mark as passage\n",
        "        random.shuffle(DIRECTIONS)  # Shuffle for randomness\n",
        "\n",
        "        for dr, dc in DIRECTIONS:\n",
        "            nr, nc = r + 2 * dr, c + 2 * dc  # Move 2 steps\n",
        "            if 1 <= nr < rows - 1 and 1 <= nc < cols - 1 and maze[nr][nc] == '#':\n",
        "                maze[r + dr][c + dc] = ' '  # Carve path\n",
        "                carve_maze(nr, nc)  # Recurse\n",
        "\n",
        "    # Start carving from (1,1)\n",
        "    carve_maze(1, 1)\n",
        "\n",
        "    # Set entry and exit\n",
        "    maze[0][1], maze[rows - 1][cols - 2] = 'S', 'E'\n",
        "    return maze\n",
        "\n",
        "def print_maze(maze):\n",
        "    \"\"\"Prints the maze in a readable format.\"\"\"\n",
        "    for row in maze:\n",
        "        print(' '.join(row))\n",
        "\n",
        "def solve_maze(maze):\n",
        "    \"\"\"Finds the shortest path using BFS.\"\"\"\n",
        "    rows, cols = len(maze), len(maze[0])\n",
        "    start, end = (0, 1), (rows - 1, cols - 2)\n",
        "    queue = deque([(start, [start])])  # (position, path)\n",
        "    visited = {start}\n",
        "\n",
        "    while queue:\n",
        "        (r, c), path = queue.popleft()\n",
        "\n",
        "        if (r, c) == end:\n",
        "            return path  # Return the shortest path\n",
        "\n",
        "        for dr, dc in DIRECTIONS:\n",
        "            nr, nc = r + dr, c + dc\n",
        "            if 0 <= nr < rows and 0 <= nc < cols and maze[nr][nc] in {' ', 'E'} and (nr, nc) not in visited:\n",
        "                queue.append(((nr, nc), path + [(nr, nc)]))\n",
        "                visited.add((nr, nc))\n",
        "\n",
        "    return None  # No solution found\n",
        "\n",
        "def mark_solution_on_maze(maze, path):\n",
        "    \"\"\"Marks the solution path on the maze.\"\"\"\n",
        "    for r, c in path:\n",
        "        if maze[r][c] not in {'S', 'E'}:\n",
        "            maze[r][c] = '*'\n",
        "\n",
        "if __name__ == \"__main__\":\n",
        "    # Allow user to input maze size\n",
        "    rows = int(input(\"Enter maze rows (odd number ≥ 5): \") or 11)\n",
        "    cols = int(input(\"Enter maze cols (odd number ≥ 5): \") or 11)\n",
        "    rows, cols = max(5, rows | 1), max(5, cols | 1)  # Ensure odd numbers\n",
        "\n",
        "    # Generate and display the maze\n",
        "    maze = generate_maze(rows, cols)\n",
        "    print(\"\\nGenerated Maze:\")\n",
        "    print_maze(maze)\n",
        "\n",
        "    # Solve and display the solution\n",
        "    solution = solve_maze(maze)\n",
        "    if solution:\n",
        "        mark_solution_on_maze(maze, solution)\n",
        "        print(\"\\nSolved Maze:\")\n",
        "        print_maze(maze)\n",
        "    else:\n",
        "        print(\"\\nNo solution found.\")"
      ],
      "metadata": {
        "colab": {
          "base_uri": "https://localhost:8080/"
        },
        "id": "241ANdVcdKNw",
        "outputId": "e97a7e83-94ad-4147-b300-55df3e35cb1f"
      },
      "execution_count": 9,
      "outputs": [
        {
          "output_type": "stream",
          "name": "stdout",
          "text": [
            "Enter maze rows (odd number ≥ 5): 5\n",
            "Enter maze cols (odd number ≥ 5): 5\n",
            "\n",
            "Generated Maze:\n",
            "# S # # #\n",
            "#       #\n",
            "# # #   #\n",
            "#       #\n",
            "# # # E #\n",
            "\n",
            "Solved Maze:\n",
            "# S # # #\n",
            "# * * * #\n",
            "# # # * #\n",
            "#     * #\n",
            "# # # E #\n"
          ]
        }
      ]
    }
  ]
}