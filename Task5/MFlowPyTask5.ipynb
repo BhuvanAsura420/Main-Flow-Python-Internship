{
  "nbformat": 4,
  "nbformat_minor": 0,
  "metadata": {
    "colab": {
      "provenance": []
    },
    "kernelspec": {
      "name": "python3",
      "display_name": "Python 3"
    },
    "language_info": {
      "name": "python"
    }
  },
  "cells": [
    {
      "cell_type": "code",
      "execution_count": 1,
      "metadata": {
        "colab": {
          "base_uri": "https://localhost:8080/",
          "height": 0
        },
        "id": "Z1U8dn_p0kZ8",
        "outputId": "c35729f8-b7ab-414c-8f7c-29521b5cf9c6"
      },
      "outputs": [
        {
          "output_type": "stream",
          "name": "stdout",
          "text": [
            "Enter a string: bhuvan\n",
            "['bhuvan', 'bhuvna', 'bhuavn', 'bhuanv', 'bhunva', 'bhunav', 'bhvuan', 'bhvuna', 'bhvaun', 'bhvanu', 'bhvnua', 'bhvnau', 'bhauvn', 'bhaunv', 'bhavun', 'bhavnu', 'bhanuv', 'bhanvu', 'bhnuva', 'bhnuav', 'bhnvua', 'bhnvau', 'bhnauv', 'bhnavu', 'buhvan', 'buhvna', 'buhavn', 'buhanv', 'buhnva', 'buhnav', 'buvhan', 'buvhna', 'buvahn', 'buvanh', 'buvnha', 'buvnah', 'buahvn', 'buahnv', 'buavhn', 'buavnh', 'buanhv', 'buanvh', 'bunhva', 'bunhav', 'bunvha', 'bunvah', 'bunahv', 'bunavh', 'bvhuan', 'bvhuna', 'bvhaun', 'bvhanu', 'bvhnua', 'bvhnau', 'bvuhan', 'bvuhna', 'bvuahn', 'bvuanh', 'bvunha', 'bvunah', 'bvahun', 'bvahnu', 'bvauhn', 'bvaunh', 'bvanhu', 'bvanuh', 'bvnhua', 'bvnhau', 'bvnuha', 'bvnuah', 'bvnahu', 'bvnauh', 'bahuvn', 'bahunv', 'bahvun', 'bahvnu', 'bahnuv', 'bahnvu', 'bauhvn', 'bauhnv', 'bauvhn', 'bauvnh', 'baunhv', 'baunvh', 'bavhun', 'bavhnu', 'bavuhn', 'bavunh', 'bavnhu', 'bavnuh', 'banhuv', 'banhvu', 'banuhv', 'banuvh', 'banvhu', 'banvuh', 'bnhuva', 'bnhuav', 'bnhvua', 'bnhvau', 'bnhauv', 'bnhavu', 'bnuhva', 'bnuhav', 'bnuvha', 'bnuvah', 'bnuahv', 'bnuavh', 'bnvhua', 'bnvhau', 'bnvuha', 'bnvuah', 'bnvahu', 'bnvauh', 'bnahuv', 'bnahvu', 'bnauhv', 'bnauvh', 'bnavhu', 'bnavuh', 'hbuvan', 'hbuvna', 'hbuavn', 'hbuanv', 'hbunva', 'hbunav', 'hbvuan', 'hbvuna', 'hbvaun', 'hbvanu', 'hbvnua', 'hbvnau', 'hbauvn', 'hbaunv', 'hbavun', 'hbavnu', 'hbanuv', 'hbanvu', 'hbnuva', 'hbnuav', 'hbnvua', 'hbnvau', 'hbnauv', 'hbnavu', 'hubvan', 'hubvna', 'hubavn', 'hubanv', 'hubnva', 'hubnav', 'huvban', 'huvbna', 'huvabn', 'huvanb', 'huvnba', 'huvnab', 'huabvn', 'huabnv', 'huavbn', 'huavnb', 'huanbv', 'huanvb', 'hunbva', 'hunbav', 'hunvba', 'hunvab', 'hunabv', 'hunavb', 'hvbuan', 'hvbuna', 'hvbaun', 'hvbanu', 'hvbnua', 'hvbnau', 'hvuban', 'hvubna', 'hvuabn', 'hvuanb', 'hvunba', 'hvunab', 'hvabun', 'hvabnu', 'hvaubn', 'hvaunb', 'hvanbu', 'hvanub', 'hvnbua', 'hvnbau', 'hvnuba', 'hvnuab', 'hvnabu', 'hvnaub', 'habuvn', 'habunv', 'habvun', 'habvnu', 'habnuv', 'habnvu', 'haubvn', 'haubnv', 'hauvbn', 'hauvnb', 'haunbv', 'haunvb', 'havbun', 'havbnu', 'havubn', 'havunb', 'havnbu', 'havnub', 'hanbuv', 'hanbvu', 'hanubv', 'hanuvb', 'hanvbu', 'hanvub', 'hnbuva', 'hnbuav', 'hnbvua', 'hnbvau', 'hnbauv', 'hnbavu', 'hnubva', 'hnubav', 'hnuvba', 'hnuvab', 'hnuabv', 'hnuavb', 'hnvbua', 'hnvbau', 'hnvuba', 'hnvuab', 'hnvabu', 'hnvaub', 'hnabuv', 'hnabvu', 'hnaubv', 'hnauvb', 'hnavbu', 'hnavub', 'ubhvan', 'ubhvna', 'ubhavn', 'ubhanv', 'ubhnva', 'ubhnav', 'ubvhan', 'ubvhna', 'ubvahn', 'ubvanh', 'ubvnha', 'ubvnah', 'ubahvn', 'ubahnv', 'ubavhn', 'ubavnh', 'ubanhv', 'ubanvh', 'ubnhva', 'ubnhav', 'ubnvha', 'ubnvah', 'ubnahv', 'ubnavh', 'uhbvan', 'uhbvna', 'uhbavn', 'uhbanv', 'uhbnva', 'uhbnav', 'uhvban', 'uhvbna', 'uhvabn', 'uhvanb', 'uhvnba', 'uhvnab', 'uhabvn', 'uhabnv', 'uhavbn', 'uhavnb', 'uhanbv', 'uhanvb', 'uhnbva', 'uhnbav', 'uhnvba', 'uhnvab', 'uhnabv', 'uhnavb', 'uvbhan', 'uvbhna', 'uvbahn', 'uvbanh', 'uvbnha', 'uvbnah', 'uvhban', 'uvhbna', 'uvhabn', 'uvhanb', 'uvhnba', 'uvhnab', 'uvabhn', 'uvabnh', 'uvahbn', 'uvahnb', 'uvanbh', 'uvanhb', 'uvnbha', 'uvnbah', 'uvnhba', 'uvnhab', 'uvnabh', 'uvnahb', 'uabhvn', 'uabhnv', 'uabvhn', 'uabvnh', 'uabnhv', 'uabnvh', 'uahbvn', 'uahbnv', 'uahvbn', 'uahvnb', 'uahnbv', 'uahnvb', 'uavbhn', 'uavbnh', 'uavhbn', 'uavhnb', 'uavnbh', 'uavnhb', 'uanbhv', 'uanbvh', 'uanhbv', 'uanhvb', 'uanvbh', 'uanvhb', 'unbhva', 'unbhav', 'unbvha', 'unbvah', 'unbahv', 'unbavh', 'unhbva', 'unhbav', 'unhvba', 'unhvab', 'unhabv', 'unhavb', 'unvbha', 'unvbah', 'unvhba', 'unvhab', 'unvabh', 'unvahb', 'unabhv', 'unabvh', 'unahbv', 'unahvb', 'unavbh', 'unavhb', 'vbhuan', 'vbhuna', 'vbhaun', 'vbhanu', 'vbhnua', 'vbhnau', 'vbuhan', 'vbuhna', 'vbuahn', 'vbuanh', 'vbunha', 'vbunah', 'vbahun', 'vbahnu', 'vbauhn', 'vbaunh', 'vbanhu', 'vbanuh', 'vbnhua', 'vbnhau', 'vbnuha', 'vbnuah', 'vbnahu', 'vbnauh', 'vhbuan', 'vhbuna', 'vhbaun', 'vhbanu', 'vhbnua', 'vhbnau', 'vhuban', 'vhubna', 'vhuabn', 'vhuanb', 'vhunba', 'vhunab', 'vhabun', 'vhabnu', 'vhaubn', 'vhaunb', 'vhanbu', 'vhanub', 'vhnbua', 'vhnbau', 'vhnuba', 'vhnuab', 'vhnabu', 'vhnaub', 'vubhan', 'vubhna', 'vubahn', 'vubanh', 'vubnha', 'vubnah', 'vuhban', 'vuhbna', 'vuhabn', 'vuhanb', 'vuhnba', 'vuhnab', 'vuabhn', 'vuabnh', 'vuahbn', 'vuahnb', 'vuanbh', 'vuanhb', 'vunbha', 'vunbah', 'vunhba', 'vunhab', 'vunabh', 'vunahb', 'vabhun', 'vabhnu', 'vabuhn', 'vabunh', 'vabnhu', 'vabnuh', 'vahbun', 'vahbnu', 'vahubn', 'vahunb', 'vahnbu', 'vahnub', 'vaubhn', 'vaubnh', 'vauhbn', 'vauhnb', 'vaunbh', 'vaunhb', 'vanbhu', 'vanbuh', 'vanhbu', 'vanhub', 'vanubh', 'vanuhb', 'vnbhua', 'vnbhau', 'vnbuha', 'vnbuah', 'vnbahu', 'vnbauh', 'vnhbua', 'vnhbau', 'vnhuba', 'vnhuab', 'vnhabu', 'vnhaub', 'vnubha', 'vnubah', 'vnuhba', 'vnuhab', 'vnuabh', 'vnuahb', 'vnabhu', 'vnabuh', 'vnahbu', 'vnahub', 'vnaubh', 'vnauhb', 'abhuvn', 'abhunv', 'abhvun', 'abhvnu', 'abhnuv', 'abhnvu', 'abuhvn', 'abuhnv', 'abuvhn', 'abuvnh', 'abunhv', 'abunvh', 'abvhun', 'abvhnu', 'abvuhn', 'abvunh', 'abvnhu', 'abvnuh', 'abnhuv', 'abnhvu', 'abnuhv', 'abnuvh', 'abnvhu', 'abnvuh', 'ahbuvn', 'ahbunv', 'ahbvun', 'ahbvnu', 'ahbnuv', 'ahbnvu', 'ahubvn', 'ahubnv', 'ahuvbn', 'ahuvnb', 'ahunbv', 'ahunvb', 'ahvbun', 'ahvbnu', 'ahvubn', 'ahvunb', 'ahvnbu', 'ahvnub', 'ahnbuv', 'ahnbvu', 'ahnubv', 'ahnuvb', 'ahnvbu', 'ahnvub', 'aubhvn', 'aubhnv', 'aubvhn', 'aubvnh', 'aubnhv', 'aubnvh', 'auhbvn', 'auhbnv', 'auhvbn', 'auhvnb', 'auhnbv', 'auhnvb', 'auvbhn', 'auvbnh', 'auvhbn', 'auvhnb', 'auvnbh', 'auvnhb', 'aunbhv', 'aunbvh', 'aunhbv', 'aunhvb', 'aunvbh', 'aunvhb', 'avbhun', 'avbhnu', 'avbuhn', 'avbunh', 'avbnhu', 'avbnuh', 'avhbun', 'avhbnu', 'avhubn', 'avhunb', 'avhnbu', 'avhnub', 'avubhn', 'avubnh', 'avuhbn', 'avuhnb', 'avunbh', 'avunhb', 'avnbhu', 'avnbuh', 'avnhbu', 'avnhub', 'avnubh', 'avnuhb', 'anbhuv', 'anbhvu', 'anbuhv', 'anbuvh', 'anbvhu', 'anbvuh', 'anhbuv', 'anhbvu', 'anhubv', 'anhuvb', 'anhvbu', 'anhvub', 'anubhv', 'anubvh', 'anuhbv', 'anuhvb', 'anuvbh', 'anuvhb', 'anvbhu', 'anvbuh', 'anvhbu', 'anvhub', 'anvubh', 'anvuhb', 'nbhuva', 'nbhuav', 'nbhvua', 'nbhvau', 'nbhauv', 'nbhavu', 'nbuhva', 'nbuhav', 'nbuvha', 'nbuvah', 'nbuahv', 'nbuavh', 'nbvhua', 'nbvhau', 'nbvuha', 'nbvuah', 'nbvahu', 'nbvauh', 'nbahuv', 'nbahvu', 'nbauhv', 'nbauvh', 'nbavhu', 'nbavuh', 'nhbuva', 'nhbuav', 'nhbvua', 'nhbvau', 'nhbauv', 'nhbavu', 'nhubva', 'nhubav', 'nhuvba', 'nhuvab', 'nhuabv', 'nhuavb', 'nhvbua', 'nhvbau', 'nhvuba', 'nhvuab', 'nhvabu', 'nhvaub', 'nhabuv', 'nhabvu', 'nhaubv', 'nhauvb', 'nhavbu', 'nhavub', 'nubhva', 'nubhav', 'nubvha', 'nubvah', 'nubahv', 'nubavh', 'nuhbva', 'nuhbav', 'nuhvba', 'nuhvab', 'nuhabv', 'nuhavb', 'nuvbha', 'nuvbah', 'nuvhba', 'nuvhab', 'nuvabh', 'nuvahb', 'nuabhv', 'nuabvh', 'nuahbv', 'nuahvb', 'nuavbh', 'nuavhb', 'nvbhua', 'nvbhau', 'nvbuha', 'nvbuah', 'nvbahu', 'nvbauh', 'nvhbua', 'nvhbau', 'nvhuba', 'nvhuab', 'nvhabu', 'nvhaub', 'nvubha', 'nvubah', 'nvuhba', 'nvuhab', 'nvuabh', 'nvuahb', 'nvabhu', 'nvabuh', 'nvahbu', 'nvahub', 'nvaubh', 'nvauhb', 'nabhuv', 'nabhvu', 'nabuhv', 'nabuvh', 'nabvhu', 'nabvuh', 'nahbuv', 'nahbvu', 'nahubv', 'nahuvb', 'nahvbu', 'nahvub', 'naubhv', 'naubvh', 'nauhbv', 'nauhvb', 'nauvbh', 'nauvhb', 'navbhu', 'navbuh', 'navhbu', 'navhub', 'navubh', 'navuhb']\n"
          ]
        }
      ],
      "source": [
        "from itertools import permutations\n",
        "\n",
        "def find_permutations():\n",
        "    s = input(\"Enter a string: \")\n",
        "    return [\"\".join(p) for p in permutations(s)]\n",
        "\n",
        "print(find_permutations())"
      ]
    },
    {
      "cell_type": "code",
      "source": [
        "\n",
        "def fibonacci():\n",
        "    n = int(input(\"Enter n: \"))\n",
        "    dp = [0, 1] + [0] * (n-1)\n",
        "    for i in range(2, n+1):\n",
        "        dp[i] = dp[i-1] + dp[i-2]\n",
        "    return dp[n]\n",
        "\n",
        "print(fibonacci())"
      ],
      "metadata": {
        "id": "pZ_VLaIW0qhD",
        "colab": {
          "base_uri": "https://localhost:8080/",
          "height": 0
        },
        "outputId": "78e8625e-73b7-4e1e-f2d6-268445ad8796"
      },
      "execution_count": 2,
      "outputs": [
        {
          "output_type": "stream",
          "name": "stdout",
          "text": [
            "Enter n: 3\n",
            "2\n"
          ]
        }
      ]
    },
    {
      "cell_type": "code",
      "source": [
        "def find_duplicates():\n",
        "    arr = list(map(int, input(\"Enter numbers: \").split()))\n",
        "    from collections import Counter\n",
        "    counts = Counter(arr)\n",
        "    return [num for num, count in counts.items() if count > 1]\n",
        "\n",
        "print(find_duplicates())"
      ],
      "metadata": {
        "id": "JvdMGtWG0tez",
        "colab": {
          "base_uri": "https://localhost:8080/",
          "height": 0
        },
        "outputId": "405f42e3-e575-4692-f0e8-56d64d365c43"
      },
      "execution_count": 3,
      "outputs": [
        {
          "output_type": "stream",
          "name": "stdout",
          "text": [
            "Enter numbers: 1 2 3 2 3 4\n",
            "[2, 3]\n"
          ]
        }
      ]
    },
    {
      "cell_type": "code",
      "source": [
        "def longest_increasing_subsequence():\n",
        "    arr = list(map(int, input(\"Enter numbers: \").split()))\n",
        "    if not arr:\n",
        "        return 0\n",
        "    dp = [1] * len(arr)\n",
        "    for i in range(len(arr)):\n",
        "        for j in range(i):\n",
        "            if arr[i] > arr[j]:\n",
        "                dp[i] = max(dp[i], dp[j] + 1)\n",
        "    return max(dp)\n",
        "\n",
        "print(longest_increasing_subsequence())"
      ],
      "metadata": {
        "id": "FWXfOd2k0wLr",
        "colab": {
          "base_uri": "https://localhost:8080/",
          "height": 0
        },
        "outputId": "d8a7822b-863d-4d4e-cf64-a180572c55e9"
      },
      "execution_count": 4,
      "outputs": [
        {
          "output_type": "stream",
          "name": "stdout",
          "text": [
            "Enter numbers: 1 2 3 4 3 2 1\n",
            "4\n"
          ]
        }
      ]
    },
    {
      "cell_type": "code",
      "source": [
        "def find_k_largest():\n",
        "    arr = list(map(int, input(\"Enter numbers: \").split()))\n",
        "    k = int(input(\"Enter k: \"))\n",
        "    return sorted(arr, reverse=True)[:k]\n",
        "\n",
        "print(find_k_largest())"
      ],
      "metadata": {
        "id": "6eJ4SFXw0ynb",
        "colab": {
          "base_uri": "https://localhost:8080/",
          "height": 0
        },
        "outputId": "07511f47-4783-4363-fc31-225ff5c13782"
      },
      "execution_count": 5,
      "outputs": [
        {
          "output_type": "stream",
          "name": "stdout",
          "text": [
            "Enter numbers: 12 31 21\n",
            "Enter k: 4\n",
            "[31, 21, 12]\n"
          ]
        }
      ]
    },
    {
      "cell_type": "code",
      "source": [
        "def rotate_matrix():\n",
        "    n = int(input(\"Enter matrix size: \"))\n",
        "    matrix = [list(map(int, input().split())) for _ in range(n)]\n",
        "    rotated = list(zip(*matrix[::-1]))\n",
        "    return [list(row) for row in rotated]\n",
        "\n",
        "print(rotate_matrix())"
      ],
      "metadata": {
        "id": "P1MSTSUd01cS",
        "colab": {
          "base_uri": "https://localhost:8080/",
          "height": 0
        },
        "outputId": "d48e7607-1754-493b-ede6-3a6450111c09"
      },
      "execution_count": 6,
      "outputs": [
        {
          "output_type": "stream",
          "name": "stdout",
          "text": [
            "Enter matrix size: 3\n",
            "1 2 3\n",
            "4 5 6\n",
            "7 8 9\n",
            "[[7, 4, 1], [8, 5, 2], [9, 6, 3]]\n"
          ]
        }
      ]
    },
    {
      "cell_type": "code",
      "source": [
        "def is_valid_sudoku():\n",
        "    board = [list(map(int, input().split())) for _ in range(9)]\n",
        "    def is_valid_block(block):\n",
        "        nums = [num for num in block if num != 0]\n",
        "        return len(nums) == len(set(nums))\n",
        "    for row in board:\n",
        "        if not is_valid_block(row):\n",
        "            return False\n",
        "    for col in zip(*board):\n",
        "        if not is_valid_block(col):\n",
        "            return False\n",
        "    for i in range(0, 9, 3):\n",
        "        for j in range(0, 9, 3):\n",
        "            block = [board[x][y] for x in range(i, i+3) for y in range(j, j+3)]\n",
        "            if not is_valid_block(block):\n",
        "                return False\n",
        "    return True\n",
        "\n",
        "print(is_valid_sudoku())"
      ],
      "metadata": {
        "id": "j_V2Trx204kz",
        "colab": {
          "base_uri": "https://localhost:8080/",
          "height": 0
        },
        "outputId": "8679592f-d536-49d0-aa2d-b6b726181c1b"
      },
      "execution_count": 11,
      "outputs": [
        {
          "output_type": "stream",
          "name": "stdout",
          "text": [
            "1 2 3 4 5 6 7 8\n",
            "1 2 3 4 5 6 7 8\n",
            "1 2 3 4 5 6 7 8\n",
            "1 2 3 4 5 6 7 8\n",
            "1 2 3 4 5 6 7 8\n",
            "1 2 3 4 5 6 7 8\n",
            "1 2 3 4 5 6 7 8\n",
            "1 2 3 4 5 6 7 8\n",
            "1 2 3 4 5 6 7 8\n",
            "False\n"
          ]
        }
      ]
    },
    {
      "cell_type": "code",
      "source": [
        "def stock_market_simulator():\n",
        "    import random\n",
        "    stocks = {\"AAPL\": 100, \"GOOGL\": 1500, \"TSLA\": 700}\n",
        "    portfolio = {}\n",
        "    for _ in range(5):\n",
        "        stock = random.choice(list(stocks.keys()))\n",
        "        change = random.uniform(-5, 5)\n",
        "        stocks[stock] += change\n",
        "    return stocks\n",
        "\n",
        "print(stock_market_simulator())"
      ],
      "metadata": {
        "id": "cUyTpXRG072y",
        "colab": {
          "base_uri": "https://localhost:8080/",
          "height": 0
        },
        "outputId": "b4eec4b0-109e-4709-9821-958844a80092"
      },
      "execution_count": 8,
      "outputs": [
        {
          "output_type": "stream",
          "name": "stdout",
          "text": [
            "{'AAPL': 100, 'GOOGL': 1500.0154059732163, 'TSLA': 696.4526715972945}\n"
          ]
        }
      ]
    }
  ]
}