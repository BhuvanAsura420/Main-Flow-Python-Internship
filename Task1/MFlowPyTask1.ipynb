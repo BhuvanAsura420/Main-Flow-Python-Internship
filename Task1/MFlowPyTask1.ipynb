{
  "nbformat": 4,
  "nbformat_minor": 0,
  "metadata": {
    "colab": {
      "provenance": []
    },
    "kernelspec": {
      "name": "python3",
      "display_name": "Python 3"
    },
    "language_info": {
      "name": "python"
    }
  },
  "cells": [
    {
      "cell_type": "code",
      "execution_count": null,
      "metadata": {
        "colab": {
          "base_uri": "https://localhost:8080/"
        },
        "id": "oVmHmWGYmddK",
        "outputId": "d54cba40-09ad-42b6-bc18-d7cc49f37843"
      },
      "outputs": [
        {
          "output_type": "stream",
          "name": "stdout",
          "text": [
            "Enter two numbers: 10 5\n",
            "15\n"
          ]
        }
      ],
      "source": [
        "### 1. Sum of Two Numbers\n",
        "def sum_two_numbers(a, b):\n",
        "    return a + b\n",
        "a, b = map(int, input(\"Enter two numbers: \").split())\n",
        "print(sum_two_numbers(a, b))\n"
      ]
    },
    {
      "cell_type": "code",
      "source": [
        "### 2. Odd or Even\n",
        "def odd_or_even(n):\n",
        "    return \"Even\" if n % 2 == 0 else \"Odd\"\n",
        "n = int(input(\"Enter a number: \"))\n",
        "print(odd_or_even(n))\n"
      ],
      "metadata": {
        "colab": {
          "base_uri": "https://localhost:8080/"
        },
        "id": "zgbwBodRpFpl",
        "outputId": "0909bf0c-0f19-4adf-8997-cdb42ad004bc"
      },
      "execution_count": null,
      "outputs": [
        {
          "output_type": "stream",
          "name": "stdout",
          "text": [
            "Enter a number: 12\n",
            "Even\n"
          ]
        }
      ]
    },
    {
      "cell_type": "code",
      "source": [
        "### 3. Factorial Calculation\n",
        "import math\n",
        "def factorial(n):\n",
        "    return math.factorial(n)\n",
        "\n",
        "n = int(input(\"Enter a number: \"))\n",
        "print(factorial(n))\n"
      ],
      "metadata": {
        "colab": {
          "base_uri": "https://localhost:8080/"
        },
        "id": "kwoFQ7SGpH71",
        "outputId": "8f5d6905-fa6b-4d11-b44f-a770bc64c640"
      },
      "execution_count": null,
      "outputs": [
        {
          "output_type": "stream",
          "name": "stdout",
          "text": [
            "Enter a number: 2\n",
            "2\n"
          ]
        }
      ]
    },
    {
      "cell_type": "code",
      "source": [
        "### 4. Fibonacci Sequence\n",
        "def fibonacci(n):\n",
        "    fib_seq = [0, 1]\n",
        "    for _ in range(n - 2):\n",
        "        fib_seq.append(fib_seq[-1] + fib_seq[-2])\n",
        "    return fib_seq[:n]\n",
        "\n",
        "n = int(input(\"Enter the number of Fibonacci terms: \"))\n",
        "print(fibonacci(n))\n"
      ],
      "metadata": {
        "colab": {
          "base_uri": "https://localhost:8080/"
        },
        "id": "0Hbwgn7-pKU2",
        "outputId": "9c6bc766-ac35-49ed-abbb-ed96b524f036"
      },
      "execution_count": null,
      "outputs": [
        {
          "output_type": "stream",
          "name": "stdout",
          "text": [
            "Enter the number of Fibonacci terms: 3\n",
            "[0, 1, 1]\n"
          ]
        }
      ]
    },
    {
      "cell_type": "code",
      "source": [
        "### 5. Reverse a String\n",
        "\n",
        "def reverse_string(s):\n",
        "    return s[::-1]\n",
        "\n",
        "s = input(\"Enter a string: \")\n",
        "print(reverse_string(s))\n"
      ],
      "metadata": {
        "colab": {
          "base_uri": "https://localhost:8080/"
        },
        "id": "XZv9yu-WpMX4",
        "outputId": "1ce71db8-8f5a-472f-a9e8-37a2669e43a2"
      },
      "execution_count": null,
      "outputs": [
        {
          "output_type": "stream",
          "name": "stdout",
          "text": [
            "Enter a string: 124\n",
            "421\n"
          ]
        }
      ]
    },
    {
      "cell_type": "code",
      "source": [
        "### 6. Palindrome Check\n",
        "def is_palindrome(s):\n",
        "    return s == s[::-1]\n",
        "\n",
        "s = input(\"Enter a string: \")\n",
        "print(is_palindrome(s))\n"
      ],
      "metadata": {
        "colab": {
          "base_uri": "https://localhost:8080/"
        },
        "id": "dXf3h1IPpOQu",
        "outputId": "b489525e-6391-459b-9a77-2ff3edb0e203"
      },
      "execution_count": null,
      "outputs": [
        {
          "output_type": "stream",
          "name": "stdout",
          "text": [
            "Enter a string: 234\n",
            "False\n"
          ]
        }
      ]
    },
    {
      "cell_type": "code",
      "source": [
        "### 7. Leap Year Check\n",
        "def is_leap_year(year):\n",
        "    return year % 4 == 0 and (year % 100 != 0 or year % 400 == 0)\n",
        "\n",
        "year = int(input(\"Enter a year: \"))\n",
        "print(is_leap_year(year))\n"
      ],
      "metadata": {
        "colab": {
          "base_uri": "https://localhost:8080/"
        },
        "id": "zWDcn_TcpQ7V",
        "outputId": "413fffb1-28f0-4b6d-ac36-69264a11282c"
      },
      "execution_count": null,
      "outputs": [
        {
          "output_type": "stream",
          "name": "stdout",
          "text": [
            "Enter a year: 2025\n",
            "False\n"
          ]
        }
      ]
    },
    {
      "cell_type": "code",
      "source": [
        "### 8. Armstrong Number\n",
        "\n",
        "def is_armstrong(n):\n",
        "    num_str = str(n)\n",
        "    num_digits = len(num_str)\n",
        "    return n == sum(int(digit) ** num_digits for digit in num_str)\n",
        "\n",
        "n = int(input(\"Enter a number: \"))\n",
        "print(is_armstrong(n))\n"
      ],
      "metadata": {
        "colab": {
          "base_uri": "https://localhost:8080/"
        },
        "id": "GA5U2YHXpS5d",
        "outputId": "764578ec-1ba1-44cc-d967-7aed41787817"
      },
      "execution_count": null,
      "outputs": [
        {
          "output_type": "stream",
          "name": "stdout",
          "text": [
            "Enter a number: 124\n",
            "False\n"
          ]
        }
      ]
    },
    {
      "cell_type": "code",
      "source": [
        "### 9. Custom Encryption-Decryption System (Simple Substitution Cipher)\n",
        "\n",
        "def encrypt(text, shift):\n",
        "    result = \"\"\n",
        "    for char in text:\n",
        "        if char.isalpha():\n",
        "            offset = 65 if char.isupper() else 97\n",
        "            result += chr((ord(char) - offset + shift) % 26 + offset)\n",
        "        else:\n",
        "            result += char\n",
        "    return result\n",
        "\n",
        "def decrypt(text, shift):\n",
        "    return encrypt(text, -shift)\n",
        "\n",
        "message = input(\"Enter a message: \")\n",
        "shift = int(input(\"Enter shift value: \"))\n",
        "\n",
        "encrypted_message = encrypt(message, shift)\n",
        "print(\"Encrypted:\", encrypted_message)\n",
        "\n",
        "decrypted_message = decrypt(encrypted_message, shift)\n",
        "print(\"Decrypted:\", decrypted_message)"
      ],
      "metadata": {
        "colab": {
          "base_uri": "https://localhost:8080/"
        },
        "id": "-Mx2tbf1pVB9",
        "outputId": "6b882351-1148-4d83-b1ab-4274c3403c9f"
      },
      "execution_count": null,
      "outputs": [
        {
          "output_type": "stream",
          "name": "stdout",
          "text": [
            "Enter a message: hi\n",
            "Enter shift value: 2\n",
            "Encrypted: jk\n",
            "Decrypted: hi\n"
          ]
        }
      ]
    }
  ]
}