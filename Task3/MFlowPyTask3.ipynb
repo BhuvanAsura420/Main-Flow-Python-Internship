{
  "nbformat": 4,
  "nbformat_minor": 0,
  "metadata": {
    "colab": {
      "provenance": []
    },
    "kernelspec": {
      "name": "python3",
      "display_name": "Python 3"
    },
    "language_info": {
      "name": "python"
    }
  },
  "cells": [
    {
      "cell_type": "code",
      "execution_count": 4,
      "metadata": {
        "colab": {
          "base_uri": "https://localhost:8080/"
        },
        "id": "RSJEcGHneLFr",
        "outputId": "90238a8e-629f-472e-d6d7-b7f58ce23f28"
      },
      "outputs": [
        {
          "output_type": "stream",
          "name": "stdout",
          "text": [
            "Enter a number: 2\n",
            "2 x 1 = 2\n",
            "2 x 2 = 4\n",
            "2 x 3 = 6\n",
            "2 x 4 = 8\n",
            "2 x 5 = 10\n",
            "2 x 6 = 12\n",
            "2 x 7 = 14\n",
            "2 x 8 = 16\n",
            "2 x 9 = 18\n",
            "2 x 10 = 20\n"
          ]
        }
      ],
      "source": [
        " ## *17. Table of a Number*\n",
        "n = int(input(\"Enter a number: \"))\n",
        "for i in range(1, 11):\n",
        "    print(f\"{n} x {i} = {n * i}\")"
      ]
    },
    {
      "cell_type": "code",
      "source": [
        "## *18. Swap Two Numbers (Without Third Variable)*\n",
        "a = int(input(\"Enter first number: \"))\n",
        "b = int(input(\"Enter second number: \"))\n",
        "\n",
        "a, b = b, a  # Swapping using tuple unpacking\n",
        "\n",
        "print(\"After swapping:\")\n",
        "print(\"First number:\", a)\n",
        "print(\"Second number:\", b)"
      ],
      "metadata": {
        "colab": {
          "base_uri": "https://localhost:8080/"
        },
        "id": "90qdahmXeqyh",
        "outputId": "308aff42-52ca-4c18-cfce-2286fb3a419d"
      },
      "execution_count": 5,
      "outputs": [
        {
          "output_type": "stream",
          "name": "stdout",
          "text": [
            "Enter first number: 12\n",
            "Enter second number: 22\n",
            "After swapping:\n",
            "First number: 22\n",
            "Second number: 12\n"
          ]
        }
      ]
    },
    {
      "cell_type": "code",
      "source": [
        "## *19. Check Substring*\n",
        "\n",
        "s1 = input(\"Enter main string: \")\n",
        "s2 = input(\"Enter substring: \")\n",
        "\n",
        "print(\"Substring exists:\", s2 in s1)"
      ],
      "metadata": {
        "colab": {
          "base_uri": "https://localhost:8080/"
        },
        "id": "FYY6J1fMevIP",
        "outputId": "f6c9ed80-041b-4927-844f-76d4e9112362"
      },
      "execution_count": 6,
      "outputs": [
        {
          "output_type": "stream",
          "name": "stdout",
          "text": [
            "Enter main string: bhuvan is bhuvan\n",
            "Enter substring: is\n",
            "Substring exists: True\n"
          ]
        }
      ]
    },
    {
      "cell_type": "code",
      "source": [
        "## *20. Decimal to Binary*\n",
        "n = int(input(\"Enter a decimal number: \"))\n",
        "print(\"Binary representation:\", bin(n)[2:])"
      ],
      "metadata": {
        "colab": {
          "base_uri": "https://localhost:8080/"
        },
        "id": "Q4RmWRlee6cH",
        "outputId": "3b26bee4-94b4-41e3-9242-d5374d5bde7b"
      },
      "execution_count": 9,
      "outputs": [
        {
          "output_type": "stream",
          "name": "stdout",
          "text": [
            "Enter a decimal number: 12\n",
            "Binary representation: 1100\n"
          ]
        }
      ]
    },
    {
      "cell_type": "code",
      "source": [
        "## *21. Matrix Addition*\n",
        "def matrix_addition(A, B):\n",
        "    rows, cols = len(A), len(A[0])\n",
        "    return [[A[i][j] + B[i][j] for j in range(cols)] for i in range(rows)]\n",
        "\n",
        "rows = int(input(\"Enter number of rows: \"))\n",
        "cols = int(input(\"Enter number of columns: \"))\n",
        "\n",
        "print(\"Enter first matrix:\")\n",
        "A = [[int(input(f\"Enter A[{i}][{j}]: \")) for j in range(cols)] for i in range(rows)]\n",
        "\n",
        "print(\"Enter second matrix:\")\n",
        "B = [[int(input(f\"Enter B[{i}][{j}]: \")) for j in range(cols)] for i in range(rows)]\n",
        "\n",
        "result = matrix_addition(A, B)\n",
        "print(\"Matrix Sum:\")\n",
        "for row in result:\n",
        "    print(row)"
      ],
      "metadata": {
        "colab": {
          "base_uri": "https://localhost:8080/"
        },
        "id": "uRkej9GBfEZm",
        "outputId": "026aee4b-65ce-43b6-c0a6-725ffff42272"
      },
      "execution_count": 10,
      "outputs": [
        {
          "output_type": "stream",
          "name": "stdout",
          "text": [
            "Enter number of rows: 3\n",
            "Enter number of columns: 4\n",
            "Enter first matrix:\n",
            "Enter A[0][0]: 1\n",
            "Enter A[0][1]: 2\n",
            "Enter A[0][2]: 3\n",
            "Enter A[0][3]: 4\n",
            "Enter A[1][0]: 5\n",
            "Enter A[1][1]: 6\n",
            "Enter A[1][2]: 7\n",
            "Enter A[1][3]: 8\n",
            "Enter A[2][0]: 9\n",
            "Enter A[2][1]: 10\n",
            "Enter A[2][2]: 11\n",
            "Enter A[2][3]: 12\n",
            "Enter second matrix:\n",
            "Enter B[0][0]: 12\n",
            "Enter B[0][1]: 11\n",
            "Enter B[0][2]: 10\n",
            "Enter B[0][3]: 9\n",
            "Enter B[1][0]: 8\n",
            "Enter B[1][1]: 7\n",
            "Enter B[1][2]: 6\n",
            "Enter B[1][3]: 5\n",
            "Enter B[2][0]: 4\n",
            "Enter B[2][1]: 3\n",
            "Enter B[2][2]: 2\n",
            "Enter B[2][3]: 1\n",
            "Matrix Sum:\n",
            "[13, 13, 13, 13]\n",
            "[13, 13, 13, 13]\n",
            "[13, 13, 13, 13]\n"
          ]
        }
      ]
    },
    {
      "cell_type": "code",
      "source": [
        "## *22. Matrix Multiplication*\n",
        "\n",
        "def matrix_multiplication(A, B):\n",
        "    rows_A, cols_A = len(A), len(A[0])\n",
        "    rows_B, cols_B = len(B), len(B[0])\n",
        "\n",
        "    if cols_A != rows_B:\n",
        "        print(\"Matrix multiplication is not possible\")\n",
        "        return None\n",
        "\n",
        "    result = [[sum(A[i][k] * B[k][j] for k in range(cols_A)) for j in range(cols_B)] for i in range(rows_A)]\n",
        "    return result\n",
        "\n",
        "rows_A = int(input(\"Enter number of rows for matrix A: \"))\n",
        "cols_A = int(input(\"Enter number of columns for matrix A: \"))\n",
        "A = [[int(input(f\"Enter A[{i}][{j}]: \")) for j in range(cols_A)] for i in range(rows_A)]\n",
        "\n",
        "rows_B = int(input(\"Enter number of rows for matrix B: \"))\n",
        "cols_B = int(input(\"Enter number of columns for matrix B: \"))\n",
        "B = [[int(input(f\"Enter B[{i}][{j}]: \")) for j in range(cols_B)] for i in range(rows_B)]\n",
        "\n",
        "result = matrix_multiplication(A, B)\n",
        "if result:\n",
        "    print(\"Matrix Product:\")\n",
        "    for row in result:\n",
        "        print(row)"
      ],
      "metadata": {
        "colab": {
          "base_uri": "https://localhost:8080/"
        },
        "id": "Mz_M23TbfLPO",
        "outputId": "1295fa13-0bb2-407c-b0cd-87f64f5dc0f1"
      },
      "execution_count": 11,
      "outputs": [
        {
          "output_type": "stream",
          "name": "stdout",
          "text": [
            "Enter number of rows for matrix A: 3\n",
            "Enter number of columns for matrix A: 3\n",
            "Enter A[0][0]: 1\n",
            "Enter A[0][1]: 2\n",
            "Enter A[0][2]: 3\n",
            "Enter A[1][0]: 4\n",
            "Enter A[1][1]: 5\n",
            "Enter A[1][2]: 6\n",
            "Enter A[2][0]: 7\n",
            "Enter A[2][1]: 8\n",
            "Enter A[2][2]: 9\n",
            "Enter number of rows for matrix B: 3\n",
            "Enter number of columns for matrix B: 3\n",
            "Enter B[0][0]: 9\n",
            "Enter B[0][1]: 8\n",
            "Enter B[0][2]: 7\n",
            "Enter B[1][0]: 6\n",
            "Enter B[1][1]: 5\n",
            "Enter B[1][2]: 4\n",
            "Enter B[2][0]: 3\n",
            "Enter B[2][1]: 2\n",
            "Enter B[2][2]: 1\n",
            "Matrix Product:\n",
            "[30, 24, 18]\n",
            "[84, 69, 54]\n",
            "[138, 114, 90]\n"
          ]
        }
      ]
    },
    {
      "cell_type": "code",
      "source": [
        "## *23. Find Second Largest*\n",
        "\n",
        "numbers = list(map(int, input(\"Enter numbers separated by space: \").split()))\n",
        "numbers = list(set(numbers))  # Remove duplicates\n",
        "numbers.sort(reverse=True)\n",
        "\n",
        "if len(numbers) < 2:\n",
        "    print(\"No second largest element\")\n",
        "else:\n",
        "    print(\"Second largest number:\", numbers[1])"
      ],
      "metadata": {
        "colab": {
          "base_uri": "https://localhost:8080/"
        },
        "id": "Pp5uCNbjfTde",
        "outputId": "b8a203cc-4fd3-4e45-990f-f4fee6ab3934"
      },
      "execution_count": 12,
      "outputs": [
        {
          "output_type": "stream",
          "name": "stdout",
          "text": [
            "Enter numbers separated by space: 11 1\n",
            "Second largest number: 1\n"
          ]
        }
      ]
    },
    {
      "cell_type": "code",
      "source": [
        "## *24. Check Anagram*\n",
        "\n",
        "s1 = input(\"Enter first string: \").replace(\" \", \"\").lower()\n",
        "s2 = input(\"Enter second string: \").replace(\" \", \"\").lower()\n",
        "\n",
        "print(\"Anagram:\", sorted(s1) == sorted(s2))"
      ],
      "metadata": {
        "colab": {
          "base_uri": "https://localhost:8080/"
        },
        "id": "KS8aNIUjfa6e",
        "outputId": "5594a03c-146f-4ef0-a642-79c373a46e2f"
      },
      "execution_count": 13,
      "outputs": [
        {
          "output_type": "stream",
          "name": "stdout",
          "text": [
            "Enter first string: racecar\n",
            "Enter second string: racist\n",
            "Anagram: False\n"
          ]
        }
      ]
    },
    {
      "cell_type": "code",
      "source": [
        "## *25. AI-Based Tic-Tac-Toe (Minimax Algorithm)*\n",
        "\n",
        "import random\n",
        "\n",
        "def print_board(board):\n",
        "    for row in board:\n",
        "        print(\" | \".join(row))\n",
        "        print(\"-\" * 5)\n",
        "\n",
        "def check_winner(board):\n",
        "    for row in board:\n",
        "        if row.count(row[0]) == 3 and row[0] != \" \":\n",
        "            return row[0]\n",
        "\n",
        "    for col in range(3):\n",
        "        if board[0][col] == board[1][col] == board[2][col] and board[0][col] != \" \":\n",
        "            return board[0][col]\n",
        "\n",
        "    if board[0][0] == board[1][1] == board[2][2] and board[0][0] != \" \":\n",
        "        return board[0][0]\n",
        "\n",
        "    if board[0][2] == board[1][1] == board[2][0] and board[0][2] != \" \":\n",
        "        return board[0][2]\n",
        "\n",
        "    return None\n",
        "\n",
        "def minimax(board, is_maximizing):\n",
        "    winner = check_winner(board)\n",
        "    if winner == \"X\":\n",
        "        return 1\n",
        "    elif winner == \"O\":\n",
        "        return -1\n",
        "    elif all(cell != \" \" for row in board for cell in row):\n",
        "        return 0\n",
        "\n",
        "    scores = []\n",
        "    for i in range(3):\n",
        "        for j in range(3):\n",
        "            if board[i][j] == \" \":\n",
        "                board[i][j] = \"X\" if is_maximizing else \"O\"\n",
        "                scores.append(minimax(board, not is_maximizing))\n",
        "                board[i][j] = \" \"\n",
        "\n",
        "    return max(scores) if is_maximizing else min(scores)\n",
        "\n",
        "board = [[\" \" for _ in range(3)] for _ in range(3)]\n",
        "print_board(board)\n",
        "\n",
        "\n",
        "## *Complete AI-Based Tic-Tac-Toe Code*\n",
        "\n",
        "import random\n",
        "\n",
        "def print_board(board):\n",
        "    \"\"\"Prints the Tic-Tac-Toe board\"\"\"\n",
        "    for row in board:\n",
        "        print(\" | \".join(row))\n",
        "        print(\"-\" * 5)\n",
        "\n",
        "def check_winner(board):\n",
        "    \"\"\"Checks if there is a winner\"\"\"\n",
        "    for row in board:\n",
        "        if row.count(row[0]) == 3 and row[0] != \" \":\n",
        "            return row[0]\n",
        "\n",
        "    for col in range(3):\n",
        "        if board[0][col] == board[1][col] == board[2][col] and board[0][col] != \" \":\n",
        "            return board[0][col]\n",
        "\n",
        "    if board[0][0] == board[1][1] == board[2][2] and board[0][0] != \" \":\n",
        "        return board[0][0]\n",
        "\n",
        "    if board[0][2] == board[1][1] == board[2][0] and board[0][2] != \" \":\n",
        "        return board[0][2]\n",
        "\n",
        "    return None\n",
        "\n",
        "def is_moves_left(board):\n",
        "    \"\"\"Checks if there are empty spaces left on the board\"\"\"\n",
        "    return any(\" \" in row for row in board)\n",
        "\n",
        "def minimax(board, is_maximizing):\n",
        "    \"\"\"Minimax algorithm for optimal AI move\"\"\"\n",
        "    winner = check_winner(board)\n",
        "    if winner == \"X\":\n",
        "        return 1\n",
        "    elif winner == \"O\":\n",
        "        return -1\n",
        "    elif not is_moves_left(board):\n",
        "        return 0\n",
        "\n",
        "    best_score = float('-inf') if is_maximizing else float('inf')\n",
        "\n",
        "    for i in range(3):\n",
        "        for j in range(3):\n",
        "            if board[i][j] == \" \":\n",
        "                board[i][j] = \"X\" if is_maximizing else \"O\"\n",
        "                score = minimax(board, not is_maximizing)\n",
        "                board[i][j] = \" \"  # Undo move\n",
        "\n",
        "                if is_maximizing:\n",
        "                    best_score = max(best_score, score)\n",
        "                else:\n",
        "                    best_score = min(best_score, score)\n",
        "\n",
        "    return best_score\n",
        "\n",
        "def best_move(board):\n",
        "    \"\"\"Finds the best move for AI\"\"\"\n",
        "    best_score = float('-inf')\n",
        "    move = (-1, -1)\n",
        "\n",
        "    for i in range(3):\n",
        "        for j in range(3):\n",
        "            if board[i][j] == \" \":\n",
        "                board[i][j] = \"X\"\n",
        "                score = minimax(board, False)\n",
        "                board[i][j] = \" \"  # Undo move\n",
        "\n",
        "                if score > best_score:\n",
        "                    best_score = score\n",
        "                    move = (i, j)\n",
        "\n",
        "    return move\n",
        "\n",
        "def play_game():\n",
        "    \"\"\"Main game loop\"\"\"\n",
        "    board = [[\" \" for _ in range(3)] for _ in range(3)]\n",
        "    print(\"Tic-Tac-Toe: You are 'O', AI is 'X'\\n\")\n",
        "    print_board(board)\n",
        "\n",
        "    for turn in range(9):  # Max 9 moves in Tic-Tac-Toe\n",
        "        if turn % 2 == 0:  # Player's turn\n",
        "            while True:\n",
        "                try:\n",
        "                    row, col = map(int, input(\"Enter row and column (0-2, separated by space): \").split())\n",
        "                    if board[row][col] == \" \":\n",
        "                        board[row][col] = \"O\"\n",
        "                        break\n",
        "                    else:\n",
        "                        print(\"Cell is already occupied! Try again.\")\n",
        "                except (ValueError, IndexError):\n",
        "                    print(\"Invalid input! Enter row and column numbers between 0 and 2.\")\n",
        "\n",
        "        else:  # AI's turn\n",
        "            print(\"AI is thinking...\")\n",
        "            row, col = best_move(board)\n",
        "            board[row][col] = \"X\"\n",
        "\n",
        "        print_board(board)\n",
        "        winner = check_winner(board)\n",
        "\n",
        "        if winner:\n",
        "            print(f\"Game Over! '{winner}' wins!\")\n",
        "            return\n",
        "\n",
        "    print(\"It's a Draw!\")\n",
        "\n",
        "# Start the game\n",
        "play_game()"
      ],
      "metadata": {
        "colab": {
          "base_uri": "https://localhost:8080/"
        },
        "id": "H6JkIkItfhS2",
        "outputId": "a6446143-0bef-4c38-f820-ee6cccbea9b9"
      },
      "execution_count": 3,
      "outputs": [
        {
          "output_type": "stream",
          "name": "stdout",
          "text": [
            "  |   |  \n",
            "-----\n",
            "  |   |  \n",
            "-----\n",
            "  |   |  \n",
            "-----\n",
            "Tic-Tac-Toe: You are 'O', AI is 'X'\n",
            "\n",
            "  |   |  \n",
            "-----\n",
            "  |   |  \n",
            "-----\n",
            "  |   |  \n",
            "-----\n",
            "Enter row and column (0-2, separated by space): 1 1\n",
            "  |   |  \n",
            "-----\n",
            "  | O |  \n",
            "-----\n",
            "  |   |  \n",
            "-----\n",
            "AI is thinking...\n",
            "X |   |  \n",
            "-----\n",
            "  | O |  \n",
            "-----\n",
            "  |   |  \n",
            "-----\n",
            "Enter row and column (0-2, separated by space): 2 1\n",
            "X |   |  \n",
            "-----\n",
            "  | O |  \n",
            "-----\n",
            "  | O |  \n",
            "-----\n",
            "AI is thinking...\n",
            "X | X |  \n",
            "-----\n",
            "  | O |  \n",
            "-----\n",
            "  | O |  \n",
            "-----\n",
            "Enter row and column (0-2, separated by space): 3 1\n",
            "Invalid input! Enter row and column numbers between 0 and 2.\n",
            "Enter row and column (0-2, separated by space): 2 2\n",
            "X | X |  \n",
            "-----\n",
            "  | O |  \n",
            "-----\n",
            "  | O | O\n",
            "-----\n",
            "AI is thinking...\n",
            "X | X | X\n",
            "-----\n",
            "  | O |  \n",
            "-----\n",
            "  | O | O\n",
            "-----\n",
            "Game Over! 'X' wins!\n"
          ]
        }
      ]
    }
  ]
}