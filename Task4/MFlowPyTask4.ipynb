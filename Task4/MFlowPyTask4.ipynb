{
  "nbformat": 4,
  "nbformat_minor": 0,
  "metadata": {
    "colab": {
      "provenance": [],
      "gpuType": "T4"
    },
    "kernelspec": {
      "name": "python3",
      "display_name": "Python 3"
    },
    "language_info": {
      "name": "python"
    },
    "accelerator": "GPU"
  },
  "cells": [
    {
      "cell_type": "code",
      "execution_count": null,
      "metadata": {
        "colab": {
          "base_uri": "https://localhost:8080/"
        },
        "id": "2q82-Q6jy9B9",
        "outputId": "be3f80ff-cb31-43a3-af63-7c8c7ae82a5f"
      },
      "outputs": [
        {
          "output_type": "stream",
          "name": "stdout",
          "text": [
            "Enter n: 4\n",
            "Enter numbers: 1 2 4 5\n",
            "-2\n"
          ]
        }
      ],
      "source": [
        "def find_missing_number():\n",
        "    n = int(input(\"Enter n: \"))\n",
        "    arr = list(map(int, input(\"Enter numbers: \").split()))\n",
        "    expected_sum = (n * (n + 1)) // 2\n",
        "    actual_sum = sum(arr)\n",
        "    return expected_sum - actual_sum\n",
        "print(find_missing_number())"
      ]
    },
    {
      "cell_type": "code",
      "source": [
        "def is_balanced():\n",
        "    s = input(\"Enter parentheses string: \")\n",
        "    stack = []\n",
        "    mapping = {')': '(', '}': '{', ']': '['}\n",
        "    for char in s:\n",
        "        if char in mapping:\n",
        "            top_element = stack.pop() if stack else '#'\n",
        "            if mapping[char] != top_element:\n",
        "                return False\n",
        "        else:\n",
        "            stack.append(char)\n",
        "    return not stack\n",
        "print(is_balanced())"
      ],
      "metadata": {
        "colab": {
          "base_uri": "https://localhost:8080/"
        },
        "id": "dcRdUvbYzFfF",
        "outputId": "acb7f55c-d391-4252-b5dc-2e2d90c837d9"
      },
      "execution_count": null,
      "outputs": [
        {
          "output_type": "stream",
          "name": "stdout",
          "text": [
            "Enter parentheses string: bhuvan\n",
            "False\n"
          ]
        }
      ]
    },
    {
      "cell_type": "code",
      "source": [
        "def longest_word():\n",
        "    sentence = input(\"Enter a sentence: \")\n",
        "    words = sentence.split()\n",
        "    return max(words, key=len)\n",
        "print(longest_word())"
      ],
      "metadata": {
        "colab": {
          "base_uri": "https://localhost:8080/"
        },
        "id": "oaXDh9zGzK_0",
        "outputId": "9b8d9c5d-dd5e-4f41-fb06-e64a1ac70426"
      },
      "execution_count": null,
      "outputs": [
        {
          "output_type": "stream",
          "name": "stdout",
          "text": [
            "Enter a sentence: bhuvan is good \n",
            "bhuvan\n"
          ]
        }
      ]
    },
    {
      "cell_type": "code",
      "source": [
        "def count_words():\n",
        "    sentence = input(\"Enter a sentence: \")\n",
        "    return len(sentence.split())\n",
        "print(count_words())"
      ],
      "metadata": {
        "colab": {
          "base_uri": "https://localhost:8080/"
        },
        "id": "Cr75BCcqzPx6",
        "outputId": "0dfae06e-fde0-4290-80a7-d30b6633cce5"
      },
      "execution_count": null,
      "outputs": [
        {
          "output_type": "stream",
          "name": "stdout",
          "text": [
            "Enter a sentence: bhuvan is bad\n",
            "3\n"
          ]
        }
      ]
    },
    {
      "cell_type": "code",
      "source": [
        "def is_pythagorean_triplet():\n",
        "    a, b, c = map(int, input(\"Enter three numbers: \").split())\n",
        "    x, y, z = sorted([a, b, c])\n",
        "    return x*x + y*y == z*z\n",
        "print(is_pythagorean_triplet())"
      ],
      "metadata": {
        "colab": {
          "base_uri": "https://localhost:8080/"
        },
        "id": "M_5McSp5zUgL",
        "outputId": "af21c870-fee3-47b3-c270-0591616ac41e"
      },
      "execution_count": null,
      "outputs": [
        {
          "output_type": "stream",
          "name": "stdout",
          "text": [
            "Enter three numbers: 1 2 3\n",
            "False\n"
          ]
        }
      ]
    },
    {
      "cell_type": "code",
      "source": [
        "def bubble_sort():\n",
        "    arr = list(map(int, input(\"Enter numbers: \").split()))\n",
        "    n = len(arr)\n",
        "    for i in range(n):\n",
        "        for j in range(0, n-i-1):\n",
        "            if arr[j] > arr[j+1]:\n",
        "                arr[j], arr[j+1] = arr[j+1], arr[j]\n",
        "    return arr\n",
        "print(bubble_sort())"
      ],
      "metadata": {
        "colab": {
          "base_uri": "https://localhost:8080/"
        },
        "id": "_XtPWYc0zXlk",
        "outputId": "6a2f8215-b533-4811-a1c3-33fa6140fce9"
      },
      "execution_count": null,
      "outputs": [
        {
          "output_type": "stream",
          "name": "stdout",
          "text": [
            "Enter numbers: 2 4 1\n",
            "[1, 2, 4]\n"
          ]
        }
      ]
    },
    {
      "cell_type": "code",
      "source": [
        "def binary_search():\n",
        "    arr = list(map(int, input(\"Enter sorted numbers: \").split()))\n",
        "    target = int(input(\"Enter target: \"))\n",
        "    left, right = 0, len(arr) - 1\n",
        "    while left <= right:\n",
        "        mid = (left + right) // 2\n",
        "        if arr[mid] == target:\n",
        "            return mid\n",
        "        elif arr[mid] < target:\n",
        "            left = mid + 1\n",
        "        else:\n",
        "            right = mid - 1\n",
        "    return -1\n",
        "print(binary_search())"
      ],
      "metadata": {
        "colab": {
          "base_uri": "https://localhost:8080/"
        },
        "id": "DMexZ4-Czf9z",
        "outputId": "a3d347ef-1d6e-418a-a8f3-9922a82f2bf5"
      },
      "execution_count": null,
      "outputs": [
        {
          "output_type": "stream",
          "name": "stdout",
          "text": [
            "Enter sorted numbers: 1 2 3 4 5 6 7\n",
            "Enter target: 2\n",
            "1\n"
          ]
        }
      ]
    },
    {
      "cell_type": "code",
      "source": [
        "def find_subarray_with_sum():\n",
        "    arr = list(map(int, input(\"Enter numbers: \").split()))\n",
        "    S = int(input(\"Enter sum: \"))\n",
        "    left, current_sum = 0, 0\n",
        "    for right in range(len(arr)):\n",
        "        current_sum += arr[right]\n",
        "        while current_sum > S and left <= right:\n",
        "            current_sum -= arr[left]\n",
        "            left += 1\n",
        "        if current_sum == S:\n",
        "            return (left, right)\n",
        "    return -1\n",
        "print(find_subarray_with_sum())"
      ],
      "metadata": {
        "colab": {
          "base_uri": "https://localhost:8080/"
        },
        "id": "kncyPCs5zkVa",
        "outputId": "ec639cf1-0092-40bb-999b-560b625d0e1d"
      },
      "execution_count": null,
      "outputs": [
        {
          "output_type": "stream",
          "name": "stdout",
          "text": [
            "Enter numbers: 1 2 3 4 5\n",
            "Enter sum: 15\n",
            "(0, 4)\n"
          ]
        }
      ]
    },
    {
      "cell_type": "code",
      "source": [
        "from collections import Counter\n",
        "\n",
        "def log_analysis():\n",
        "    # Simulating log data since we can't upload a file\n",
        "    logs = [\n",
        "        \"192.168.1.1 200 /home\",\n",
        "        \"192.168.1.2 404 /about\",\n",
        "        \"192.168.1.1 200 /home\",\n",
        "        \"192.168.1.3 500 /contact\",\n",
        "        \"192.168.1.1 200 /home\",\n",
        "        \"192.168.1.4 200 /services\",\n",
        "        \"192.168.1.2 404 /about\",\n",
        "        \"192.168.1.1 200 /home\",\n",
        "        \"192.168.1.3 500 /contact\",\n",
        "        \"192.168.1.5 302 /redirect\"\n",
        "    ]\n",
        "\n",
        "    ip_counter = Counter()\n",
        "    url_counter = Counter()\n",
        "    status_counter = Counter()\n",
        "\n",
        "    for log in logs:\n",
        "        parts = log.split()\n",
        "        if len(parts) < 3:\n",
        "            continue\n",
        "        ip, status, url = parts[0], parts[1], parts[2]\n",
        "        ip_counter[ip] += 1\n",
        "        url_counter[url] += 1\n",
        "        status_counter[status] += 1\n",
        "\n",
        "    result = {\n",
        "        \"Most Frequent IPs\": ip_counter.most_common(5),\n",
        "        \"Most Accessed URLs\": url_counter.most_common(5),\n",
        "        \"Response Code Counts\": status_counter.most_common(5)\n",
        "    }\n",
        "\n",
        "    # Print results\n",
        "    for key, value in result.items():\n",
        "        print(f\"{key}: {value}\")\n",
        "\n",
        "log_analysis()\n"
      ],
      "metadata": {
        "id": "ueJOKG0SznTM",
        "colab": {
          "base_uri": "https://localhost:8080/"
        },
        "outputId": "34fd563a-b07e-4a19-a4ce-ae0edad11094"
      },
      "execution_count": 5,
      "outputs": [
        {
          "output_type": "stream",
          "name": "stdout",
          "text": [
            "Most Frequent IPs: [('192.168.1.1', 4), ('192.168.1.2', 2), ('192.168.1.3', 2), ('192.168.1.4', 1), ('192.168.1.5', 1)]\n",
            "Most Accessed URLs: [('/home', 4), ('/about', 2), ('/contact', 2), ('/services', 1), ('/redirect', 1)]\n",
            "Response Code Counts: [('200', 5), ('404', 2), ('500', 2), ('302', 1)]\n"
          ]
        }
      ]
    }
  ]
}